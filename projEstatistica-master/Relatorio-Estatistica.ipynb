{
 "cells": [
  {
   "cell_type": "markdown",
   "metadata": {},
   "source": [
    "# Análise Estatistica\n",
    "### Amanda Luna, Renato Henriques e Sheila Silva\n",
    "### 12 de junho de 2019\n",
    "\n",
    "## Apresentação do problema\n",
    "\n",
    "O Conjunto de Dados de Habitação de Boston consiste no preço das casas em vários locais em Boston, esse conjunto de dados é do ano de 1970. O conjunto de dados (dataset) nos disponibiliza quatorze variavéis distintas que tentaremos avaliar a relação entre elas para predizer os valores das casas através de regressão linear múltipla.\n",
    "\n",
    "## Descrição do Dataset\n",
    "\n",
    "O dataset escolhido consiste no preço das casas em vários lugares em Boston nos anos 70. Além disso, é composto por 506 observações, com 13 atributos . Juntamente com o preço, o conjunto de dados também fornece informações como:\n",
    "\n",
    "1. CRIM - taxa de criminalidade per capita por cidade\n",
    "2. ZN - proporção de terrenos residenciais zoneados para lotes com mais de 25.000 pés² (cerca de 2.322 m²)\n",
    "3. INDUS - proporção de negócios não-varejistas por acre (4046m²) por cidade\n",
    "4. CHAS - Variável de Charles River que mede quantidade de bairros próximos\n",
    "5. NOX - concentração de óxidos nitricos\n",
    "6. RM - número médio de quartos por habitação\n",
    "7. AGE - proporção de unidades ocupadas construídas antes de 1940\n",
    "9. RAD - índice de acessibilidade a rodovias radiais \n",
    "10. TAX - taxa de imposto predial de valor integral 10,000 dólares\n",
    "11. PTRATIO - relação aluno-professor por cidade\n",
    "12. B - 1000(Bk - 0.63)^2 onde Bk é a quantidade de negro por cidade\n",
    "13. LSTAT - porcentagem de pessoas de classe baixa por cidade\n",
    "14. PRICE - valor médio de residências\n",
    "\n",
    "## Importando as bibliotecas"
   ]
  },
  {
   "cell_type": "code",
   "execution_count": 22,
   "metadata": {},
   "outputs": [],
   "source": [
    "%matplotlib inline \n",
    "\n",
    "import numpy as np\n",
    "import pandas as pd\n",
    "import scipy.stats as stats\n",
    "import matplotlib.pyplot as plt\n",
    "import sklearn\n",
    "import statsmodels.api as sm\n",
    "from sklearn import metrics\n",
    "from sklearn.metrics import r2_score\n",
    "from sklearn.datasets import load_boston\n",
    "from sklearn.model_selection import train_test_split\n",
    "from sklearn.linear_model import LinearRegression\n",
    "from scipy import stats\n",
    "import seaborn as sns\n",
    "sns.set_style(\"whitegrid\")\n",
    "sns.set_context(\"poster\")\n",
    "from matplotlib import rcParams\n",
    "import statsmodels.api as sm\n",
    "from statsmodels.formula.api import ols\n",
    "from statsmodels.stats.multicomp import pairwise_tukeyhsd\n",
    "import scipy.stats as stats\n",
    "from sklearn.datasets import load_boston\n",
    "boston = load_boston()\n",
    "bos = pd.DataFrame(boston.data, columns=boston.feature_names)"
   ]
  },
  {
   "cell_type": "markdown",
   "metadata": {},
   "source": [
    "## Carregando o dataset"
   ]
  },
  {
   "cell_type": "code",
   "execution_count": 23,
   "metadata": {
    "scrolled": true
   },
   "outputs": [
    {
     "name": "stdout",
     "output_type": "stream",
     "text": [
      "      CRIM    ZN  INDUS  CHAS    NOX     RM   AGE     DIS  RAD    TAX  \\\n",
      "0  0.00632  18.0   2.31   0.0  0.538  6.575  65.2  4.0900  1.0  296.0   \n",
      "1  0.02731   0.0   7.07   0.0  0.469  6.421  78.9  4.9671  2.0  242.0   \n",
      "2  0.02729   0.0   7.07   0.0  0.469  7.185  61.1  4.9671  2.0  242.0   \n",
      "3  0.03237   0.0   2.18   0.0  0.458  6.998  45.8  6.0622  3.0  222.0   \n",
      "4  0.06905   0.0   2.18   0.0  0.458  7.147  54.2  6.0622  3.0  222.0   \n",
      "\n",
      "   PTRATIO       B  LSTAT  PRICE  \n",
      "0     15.3  396.90   4.98   24.0  \n",
      "1     17.8  396.90   9.14   21.6  \n",
      "2     17.8  392.83   4.03   34.7  \n",
      "3     18.7  394.63   2.94   33.4  \n",
      "4     18.7  396.90   5.33   36.2  \n"
     ]
    }
   ],
   "source": [
    "bos['PRICE'] = boston.target\n",
    "print(bos.head())"
   ]
  },
  {
   "cell_type": "markdown",
   "metadata": {},
   "source": [
    "## Tratamento de dados do dataset\n",
    "\n",
    "Após carregar o dataset e adicionar a váriavel PRICE, referente ao preço das casas, fazemos o tratamento dos dados e obtivemos os seguintes resultados. Que são referentes a quantidade (count), média(mean), desvio padrão(std) e os valores minimos até os valores máximos para cada atributo, como podemos ver na tabela abaixo:"
   ]
  },
  {
   "cell_type": "code",
   "execution_count": 24,
   "metadata": {
    "scrolled": true
   },
   "outputs": [
    {
     "name": "stdout",
     "output_type": "stream",
     "text": [
      "             CRIM          ZN       INDUS        CHAS         NOX          RM  \\\n",
      "count  506.000000  506.000000  506.000000  506.000000  506.000000  506.000000   \n",
      "mean     3.613524   11.363636   11.136779    0.069170    0.554695    6.284634   \n",
      "std      8.601545   23.322453    6.860353    0.253994    0.115878    0.702617   \n",
      "min      0.006320    0.000000    0.460000    0.000000    0.385000    3.561000   \n",
      "25%      0.082045    0.000000    5.190000    0.000000    0.449000    5.885500   \n",
      "50%      0.256510    0.000000    9.690000    0.000000    0.538000    6.208500   \n",
      "75%      3.677083   12.500000   18.100000    0.000000    0.624000    6.623500   \n",
      "max     88.976200  100.000000   27.740000    1.000000    0.871000    8.780000   \n",
      "\n",
      "              AGE         DIS         RAD         TAX     PTRATIO           B  \\\n",
      "count  506.000000  506.000000  506.000000  506.000000  506.000000  506.000000   \n",
      "mean    68.574901    3.795043    9.549407  408.237154   18.455534  356.674032   \n",
      "std     28.148861    2.105710    8.707259  168.537116    2.164946   91.294864   \n",
      "min      2.900000    1.129600    1.000000  187.000000   12.600000    0.320000   \n",
      "25%     45.025000    2.100175    4.000000  279.000000   17.400000  375.377500   \n",
      "50%     77.500000    3.207450    5.000000  330.000000   19.050000  391.440000   \n",
      "75%     94.075000    5.188425   24.000000  666.000000   20.200000  396.225000   \n",
      "max    100.000000   12.126500   24.000000  711.000000   22.000000  396.900000   \n",
      "\n",
      "            LSTAT       PRICE  \n",
      "count  506.000000  506.000000  \n",
      "mean    12.653063   22.532806  \n",
      "std      7.141062    9.197104  \n",
      "min      1.730000    5.000000  \n",
      "25%      6.950000   17.025000  \n",
      "50%     11.360000   21.200000  \n",
      "75%     16.955000   25.000000  \n",
      "max     37.970000   50.000000  \n"
     ]
    }
   ],
   "source": [
    "print(bos.describe())"
   ]
  },
  {
   "cell_type": "code",
   "execution_count": null,
   "metadata": {},
   "outputs": [],
   "source": []
  },
  {
   "cell_type": "markdown",
   "metadata": {},
   "source": [
    "## Análise exploratória dos dados\n",
    "\n",
    "\n",
    "Analisando a váriavel PRICE referente a o preço das casas, podemos observar que ela segue uma distribuição normal."
   ]
  },
  {
   "cell_type": "code",
   "execution_count": 25,
   "metadata": {
    "scrolled": true
   },
   "outputs": [
    {
     "data": {
      "image/png": "[encoded data removed]",
      "text/plain": [
       "<Figure size 842.4x595.44 with 1 Axes>"
      ]
     },
     "metadata": {},
     "output_type": "display_data"
    }
   ],
   "source": [
    "sns.set(rc={'figure.figsize':(11.7,8.27)})\n",
    "sns.distplot(bos['PRICE'], bins=30)\n",
    "plt.show()"
   ]
  },
  {
   "cell_type": "markdown",
   "metadata": {},
   "source": [
    "## Separando o dataset de treino e de teste\n",
    "\n",
    "Basicamente, antes de dividir os dados para o conjunto de dados de teste e de treinamento, precisaríamos dividir o conjunto de dados em dois: valor alvo e valores de previsão. Vamos chamar valor alvo de Y e os valores de predição de X.\n",
    "Portanto, temos:\n",
    "\n",
    "Y = Preço das casas em Boston\n",
    "\n",
    "X = Todos os outros atributos\n"
   ]
  },
  {
   "cell_type": "code",
   "execution_count": 26,
   "metadata": {},
   "outputs": [
    {
     "name": "stdout",
     "output_type": "stream",
     "text": [
      "quantidade de dados para treino de X/quantidade de atributos (339, 13)\n",
      "quantidade de dados para teste de X/quantidade de atributos (167, 13)\n",
      "quantidade de dados para treino de Y (339,)\n",
      "quantidade de dados para teste de Y (167,)\n"
     ]
    }
   ],
   "source": [
    "from sklearn.model_selection import train_test_split\n",
    "X = bos.drop('PRICE', axis = 1)\n",
    "Y = bos['PRICE']\n",
    "X_train, X_test, Y_train, Y_test = sklearn.model_selection.train_test_split(X, Y, test_size = 0.33, random_state = 5)\n",
    "print(\"quantidade de dados para treino de X/quantidade de atributos\",X_train.shape)\n",
    "print(\"quantidade de dados para teste de X/quantidade de atributos\",X_test.shape)\n",
    "print(\"quantidade de dados para treino de Y\" , Y_train.shape)\n",
    "print(\"quantidade de dados para teste de Y\" , Y_test.shape)"
   ]
  },
  {
   "cell_type": "markdown",
   "metadata": {},
   "source": [
    "Se também verificarmos a forma de cada variável, podemos descobrir que agora já recebemos nosso trem e testamos conjuntos de dados com a proporção de 66,66%(339) para dados de treino e 33,33%(167) para dados de teste.\n",
    "\n",
    "## Regressão Linear Múltipla\n",
    "\n",
    "A separação dos dados acima irá se encaixar em um modelo baseado em X_train e Y_train. Agora nós já temos o modelo linear, tentamos prever isso para o X_test e agora temos os valores de predição que são armazenados em Y_pred. Para visualizar as diferenças entre os preços reais e os valores previstos, também criamos um gráfico de dispersão que pode ser visualizado a seguir."
   ]
  },
  {
   "cell_type": "code",
   "execution_count": 51,
   "metadata": {},
   "outputs": [
    {
     "data": {
      "text/plain": [
       "Text(0.5, 1.0, 'Preços vs Preços preditos')"
      ]
     },
     "execution_count": 51,
     "metadata": {},
     "output_type": "execute_result"
    },
    {
     "data": {
      "image/png": "[encoded data removed]",
      "text/plain": [
       "<Figure size 842.4x595.44 with 1 Axes>"
      ]
     },
     "metadata": {},
     "output_type": "display_data"
    }
   ],
   "source": [
    "from sklearn.linear_model import LinearRegression\n",
    "\n",
    "lm = LinearRegression()\n",
    "lm.fit(X_train, Y_train)\n",
    "\n",
    "Y_pred = lm.predict(X_test)\n",
    "\n",
    "plt.scatter(Y_test, Y_pred, s=10, alpha=0.5)\n",
    "plt.xlabel(\"Preços originais\")\n",
    "plt.ylabel(\"Preços preditos\")\n",
    "plt.title(\"Preços vs Preços preditos\")"
   ]
  },
  {
   "cell_type": "markdown",
   "metadata": {},
   "source": [
    "O gráfico de dispersão deveria criar um gráfico linear, entretanto o modelo não se ajusta a 100% por isso não obtemos essa linearidade.\n",
    "\n",
    "## Erro quadrático médio\n",
    "\n",
    "Para verificar o nível de erro de um modelo, podemos calcular o erro quadrático médio. É um dos procedimentos para medir a média dos quadrados de erro. Basicamente, ele irá verificar a diferença entre o valor real e o valor previsto. Para usá-lo, podemos usar a função de erro quadrática média do scikit-learn executando o trecho de código a seguir:"
   ]
  },
  {
   "cell_type": "code",
   "execution_count": 28,
   "metadata": {},
   "outputs": [
    {
     "name": "stdout",
     "output_type": "stream",
     "text": [
      "     Original    Predito\n",
      "226      37.6  37.467236\n",
      "292      27.9  31.391547\n",
      "90       22.6  27.120196\n",
      "373      13.8   6.468433\n",
      "273      35.2  33.629667\n",
      "417      10.4   5.670680\n",
      "503      23.9  27.039467\n",
      "234      29.0  29.927047\n",
      "111      22.8  26.356613\n",
      "472      23.2  22.452460\n",
      "99       33.2  32.205044\n",
      "339      19.0  21.786417\n",
      "309      20.3  23.411384\n",
      "304      36.1  33.608944\n",
      "272      24.4  28.286195\n"
     ]
    }
   ],
   "source": [
    "diff = pd.DataFrame({'Original': Y_test, 'Predito': Y_pred})\n",
    "diff1 = diff.head(20)\n",
    "print(diff.head(15))"
   ]
  },
  {
   "cell_type": "code",
   "execution_count": 29,
   "metadata": {},
   "outputs": [
    {
     "data": {
      "text/html": [
       "<div>\n",
       "<style scoped>\n",
       "    .dataframe tbody tr th:only-of-type {\n",
       "        vertical-align: middle;\n",
       "    }\n",
       "\n",
       "    .dataframe tbody tr th {\n",
       "        vertical-align: top;\n",
       "    }\n",
       "\n",
       "    .dataframe thead th {\n",
       "        text-align: right;\n",
       "    }\n",
       "</style>\n",
       "<table border=\"1\" class=\"dataframe\">\n",
       "  <thead>\n",
       "    <tr style=\"text-align: right;\">\n",
       "      <th></th>\n",
       "      <th>Original</th>\n",
       "      <th>Predito</th>\n",
       "    </tr>\n",
       "  </thead>\n",
       "  <tbody>\n",
       "    <tr>\n",
       "      <th>count</th>\n",
       "      <td>167.000000</td>\n",
       "      <td>167.000000</td>\n",
       "    </tr>\n",
       "    <tr>\n",
       "      <th>mean</th>\n",
       "      <td>22.523952</td>\n",
       "      <td>21.847663</td>\n",
       "    </tr>\n",
       "    <tr>\n",
       "      <th>std</th>\n",
       "      <td>9.711260</td>\n",
       "      <td>8.394229</td>\n",
       "    </tr>\n",
       "    <tr>\n",
       "      <th>min</th>\n",
       "      <td>7.000000</td>\n",
       "      <td>-6.249525</td>\n",
       "    </tr>\n",
       "    <tr>\n",
       "      <th>25%</th>\n",
       "      <td>16.400000</td>\n",
       "      <td>17.425063</td>\n",
       "    </tr>\n",
       "    <tr>\n",
       "      <th>50%</th>\n",
       "      <td>20.700000</td>\n",
       "      <td>21.725754</td>\n",
       "    </tr>\n",
       "    <tr>\n",
       "      <th>75%</th>\n",
       "      <td>25.050000</td>\n",
       "      <td>27.079831</td>\n",
       "    </tr>\n",
       "    <tr>\n",
       "      <th>max</th>\n",
       "      <td>50.000000</td>\n",
       "      <td>42.756775</td>\n",
       "    </tr>\n",
       "  </tbody>\n",
       "</table>\n",
       "</div>"
      ],
      "text/plain": [
       "         Original     Predito\n",
       "count  167.000000  167.000000\n",
       "mean    22.523952   21.847663\n",
       "std      9.711260    8.394229\n",
       "min      7.000000   -6.249525\n",
       "25%     16.400000   17.425063\n",
       "50%     20.700000   21.725754\n",
       "75%     25.050000   27.079831\n",
       "max     50.000000   42.756775"
      ]
     },
     "execution_count": 29,
     "metadata": {},
     "output_type": "execute_result"
    }
   ],
   "source": [
    "diff.describe()"
   ]
  },
  {
   "cell_type": "markdown",
   "metadata": {},
   "source": [
    "Temos que os valores da média dos preços originais e preditos são 22.523952 e 21.847663 respectivamente.\n",
    "Com isso, temos que o valor da raiz quadrada do erro médio é maior do que 10% do valores das médias (2.2523952 e 2.1847663). Portanto, o nosso modelo não possui uma boa acurácia, porém, consegue realizar predições razoáveis.\n",
    "\n",
    "Alguns motivos para isto ter acontecido são:\n",
    "1. Precisariamos de mais dados\n",
    "2. Os atributos que utilizamos talvez não possuam muita correlação com o valor que tentamos predizer\n",
    "3. Assumimos que os dados possuíam um relacionamento linear, o que pode não ser o caso \n",
    "\n",
    "O gráfico de barras abaixo consiste em uma amostra dos resultados comparativos dos preços originais e preditos pela regressão linear múltipla.\n"
   ]
  },
  {
   "cell_type": "code",
   "execution_count": 30,
   "metadata": {
    "scrolled": true
   },
   "outputs": [
    {
     "data": {
      "image/png": "[encoded data removed]",
      "text/plain": [
       "<Figure size 720x576 with 1 Axes>"
      ]
     },
     "metadata": {},
     "output_type": "display_data"
    }
   ],
   "source": [
    "diff1.plot(kind='bar',figsize=(10,8))\n",
    "plt.grid(which='major', linestyle='-', linewidth='0.5', color='green')\n",
    "plt.grid(which='minor', linestyle=':', linewidth='0.5', color='black')\n",
    "plt.show()"
   ]
  },
  {
   "cell_type": "markdown",
   "metadata": {},
   "source": [
    "## Análise de Resíduos pelo teste de Shapiro-Wilk\n",
    "\n",
    "Analisando os resíduos desse modelo temos que pelo teste de normalidade de Shapiro-Wilk, obtivemos o resultado de 0.99047 com p-valor de 0.32761 que é maior que 0.05. Então temos que nossos dados seguem uma distribuição normal visto que não houve violação na normalidade dos resíduos. "
   ]
  },
  {
   "cell_type": "code",
   "execution_count": 31,
   "metadata": {},
   "outputs": [
    {
     "data": {
      "text/plain": [
       "(0.9904677271842957, 0.3276057243347168)"
      ]
     },
     "execution_count": 31,
     "metadata": {},
     "output_type": "execute_result"
    }
   ],
   "source": [
    "stats.shapiro(Y_pred)"
   ]
  },
  {
   "cell_type": "markdown",
   "metadata": {},
   "source": [
    "## Coeficiente de Determinação "
   ]
  },
  {
   "cell_type": "markdown",
   "metadata": {},
   "source": [
    "R é a correlação entre os preços reais e os preços preditos. R-square é o valor quadrático deste coeficiente de correlação, e tem uma interpretação muito interessante.\n",
    "\n",
    "Ele representa a proporção da variabilidade na variável resposta explicada pela variável preditora ou variável explanatória. Também conhecido como coeficiente de determinação.\n",
    "\n",
    "Ele nos dá uma idéia de quão bem podemos predizer a variável resposta a partir da(s) variável(eis) preditora(s).\n",
    "\n",
    "Se os dados caem exatamente sobre a reta, $R^2=1$ e podemos predizer a resposta exatamente.\n",
    "\n",
    "O resultado do coeficiente nos mostra que o modelo tem 70% de eficiencia em predizer os preços dos imoveis, isto significa que 69,56% da variável predita consegue ser explicada pelos regressores presentes no modelo."
   ]
  },
  {
   "cell_type": "code",
   "execution_count": 32,
   "metadata": {},
   "outputs": [
    {
     "name": "stdout",
     "output_type": "stream",
     "text": [
      "Coefiente de correlação:  0.6956551656111607\n"
     ]
    }
   ],
   "source": [
    "coefficient_of_dermination = r2_score(Y_test, Y_pred)\n",
    "print(\"Coefiente de correlação: \", coefficient_of_dermination)"
   ]
  },
  {
   "cell_type": "markdown",
   "metadata": {},
   "source": [
    "## ANOVA\n",
    "\n",
    "O valor-p obtido é superior ao nível de significancia(P > 0,05). Conclui-se que o modelo não é estatisticamente significativo, sendo assim, talvez seja necessário um reajuste do modelo para que este corresponda ao esperado. "
   ]
  },
  {
   "cell_type": "code",
   "execution_count": 64,
   "metadata": {},
   "outputs": [
    {
     "name": "stdout",
     "output_type": "stream",
     "text": [
      "                     sum_sq     df         F    PR(>F)\n",
      "C(treatments)     38.190185    1.0  0.463553  0.496443\n",
      "Residual       27352.095048  332.0       NaN       NaN\n"
     ]
    }
   ],
   "source": [
    "d_melt = pd.melt(diff.reset_index(), id_vars=['index'], value_vars=['Predito', 'Original'])\n",
    "d_melt.columns = ['index', 'treatments', 'value']\n",
    "model = ols('value ~ C(treatments)', data=d_melt).fit()\n",
    "anova_table = sm.stats.anova_lm(model, typ=2)\n",
    "print(anova_table) "
   ]
  },
  {
   "cell_type": "markdown",
   "metadata": {},
   "source": [
    "## Teste de  Tukey\n",
    "\n",
    "No estudo em questão que buscou-se comparar a distribuição dos grupos de amostras independentes, para isso utilizou-se da Análise de Variância ou ANOVA. Nesse caso, o resultado evidencia que o modelo não possui significancia, mas não indica se entre os grupos posssui alguma diferença significativa. Assim, se foi necessário utilizar testes de comparações múltiplas. \n",
    "\n",
    "Dentre os testes de comparações múltiplas mais utilizados, o Teste de Tukey se destaca por ser poderoso ao fazer comparações entre todos os pares e também por ser de fácil aplicação. Nele pode-se observar que entre alguns termos o teste não rejetia, logo entre eles possui alguma significancia. "
   ]
  },
  {
   "cell_type": "code",
   "execution_count": 66,
   "metadata": {},
   "outputs": [
    {
     "name": "stdout",
     "output_type": "stream",
     "text": [
      " Multiple Comparison of Means - Tukey HSD,FWER=0.05 \n",
      "====================================================\n",
      " group1  group2  meandiff   lower     upper   reject\n",
      "----------------------------------------------------\n",
      "  AGE      B     288.0991   277.05   299.1482  True \n",
      "  AGE     CHAS   -68.5057  -79.5548  -57.4566  True \n",
      "  AGE     CRIM   -64.9614  -76.0105  -53.9123  True \n",
      "  AGE     DIS    -64.7799  -75.829   -53.7308  True \n",
      "  AGE    INDUS   -57.4381  -68.4872  -46.389   True \n",
      "  AGE    LSTAT   -55.9218  -66.9709  -44.8727  True \n",
      "  AGE     NOX    -68.0202  -79.0693  -56.9711  True \n",
      "  AGE    PRICE   -46.0421  -57.0912  -34.993   True \n",
      "  AGE   PTRATIO  -50.1194  -61.1685  -39.0703  True \n",
      "  AGE     RAD    -59.0255  -70.0746  -47.9764  True \n",
      "  AGE      RM    -62.2903  -73.3394  -51.2412  True \n",
      "  AGE     TAX    339.6623  328.6132  350.7113  True \n",
      "  AGE      ZN    -57.2113  -68.2604  -46.1622  True \n",
      "   B      CHAS  -356.6049  -367.654 -345.5558  True \n",
      "   B      CRIM  -353.0605 -364.1096 -342.0114  True \n",
      "   B      DIS    -352.879 -363.9281 -341.8299  True \n",
      "   B     INDUS  -345.5373 -356.5863 -334.4882  True \n",
      "   B     LSTAT   -344.021 -355.0701 -332.9719  True \n",
      "   B      NOX   -356.1193 -367.1684 -345.0702  True \n",
      "   B     PRICE  -334.1412 -345.1903 -323.0921  True \n",
      "   B    PTRATIO -338.2185 -349.2676 -327.1694  True \n",
      "   B      RAD   -347.1246 -358.1737 -336.0755  True \n",
      "   B       RM   -350.3894 -361.4385 -339.3403  True \n",
      "   B      TAX    51.5631    40.514   62.6122   True \n",
      "   B       ZN   -345.3104 -356.3595 -334.2613  True \n",
      "  CHAS    CRIM    3.5444   -7.5047   14.5935  False \n",
      "  CHAS    DIS     3.7259   -7.3232    14.775  False \n",
      "  CHAS   INDUS   11.0676    0.0185   22.1167   True \n",
      "  CHAS   LSTAT   12.5839    1.5348    23.633   True \n",
      "  CHAS    NOX     0.4855   -10.5636  11.5346  False \n",
      "  CHAS   PRICE   22.4636   11.4145   33.5127   True \n",
      "  CHAS  PTRATIO  18.3864    7.3373   29.4355   True \n",
      "  CHAS    RAD     9.4802   -1.5689   20.5293  False \n",
      "  CHAS     RM     6.2155   -4.8336   17.2646  False \n",
      "  CHAS    TAX    408.168   397.1189  419.2171  True \n",
      "  CHAS     ZN    11.2945    0.2454   22.3436   True \n",
      "  CRIM    DIS     0.1815   -10.8676  11.2306  False \n",
      "  CRIM   INDUS    7.5233   -3.5258   18.5724  False \n",
      "  CRIM   LSTAT    9.0395   -2.0096   20.0886  False \n",
      "  CRIM    NOX    -3.0588   -14.1079   7.9903  False \n",
      "  CRIM   PRICE   18.9193    7.8702   29.9684   True \n",
      "  CRIM  PTRATIO   14.842    3.7929   25.8911   True \n",
      "  CRIM    RAD     5.9359   -5.1132    16.985  False \n",
      "  CRIM     RM     2.6711    -8.378   13.7202  False \n",
      "  CRIM    TAX    404.6236  393.5745  415.6727  True \n",
      "  CRIM     ZN     7.7501    -3.299   18.7992  False \n",
      "  DIS    INDUS    7.3417   -3.7074   18.3908  False \n",
      "  DIS    LSTAT    8.858    -2.1911   19.9071  False \n",
      "  DIS     NOX    -3.2403   -14.2894   7.8087  False \n",
      "  DIS    PRICE   18.7378    7.6887   29.7869   True \n",
      "  DIS   PTRATIO  14.6605    3.6114   25.7096   True \n",
      "  DIS     RAD     5.7544   -5.2947   16.8035  False \n",
      "  DIS      RM     2.4896   -8.5595   13.5387  False \n",
      "  DIS     TAX    404.4421  393.393   415.4912  True \n",
      "  DIS      ZN     7.5686   -3.4805   18.6177  False \n",
      " INDUS   LSTAT    1.5163   -9.5328   12.5654  False \n",
      " INDUS    NOX    -10.5821  -21.6312   0.467   False \n",
      " INDUS   PRICE    11.396    0.3469   22.4451   True \n",
      " INDUS  PTRATIO   7.3188   -3.7303   18.3679  False \n",
      " INDUS    RAD    -1.5874   -12.6365   9.4617  False \n",
      " INDUS     RM    -4.8521   -15.9012   6.197   False \n",
      " INDUS    TAX    397.1004  386.0513  408.1495  True \n",
      " INDUS     ZN     0.2269   -10.8222   11.276  False \n",
      " LSTAT    NOX    -12.0984  -23.1475  -1.0493   True \n",
      " LSTAT   PRICE    9.8797   -1.1694   20.9288  False \n",
      " LSTAT  PTRATIO   5.8025   -5.2466   16.8516  False \n",
      " LSTAT    RAD    -3.1037   -14.1528   7.9454  False \n",
      " LSTAT     RM    -6.3684   -17.4175   4.6807  False \n",
      " LSTAT    TAX    395.5841  384.535   406.6332  True \n",
      " LSTAT     ZN    -1.2894   -12.3385   9.7597  False \n",
      "  NOX    PRICE   21.9781    10.929   33.0272   True \n",
      "  NOX   PTRATIO  17.9008    6.8517   28.9499   True \n",
      "  NOX     RAD     8.9947   -2.0544   20.0438  False \n",
      "  NOX      RM     5.7299   -5.3192    16.779  False \n",
      "  NOX     TAX    407.6825  396.6334  418.7316  True \n",
      "  NOX      ZN    10.8089   -0.2402    21.858  False \n",
      " PRICE  PTRATIO  -4.0773   -15.1264   6.9718  False \n",
      " PRICE    RAD    -12.9834  -24.0325  -1.9343   True \n",
      " PRICE     RM    -16.2482  -27.2973  -5.1991   True \n",
      " PRICE    TAX    385.7043  374.6553  396.7534  True \n",
      " PRICE     ZN    -11.1692  -22.2183  -0.1201   True \n",
      "PTRATIO   RAD    -8.9061   -19.9552   2.143   False \n",
      "PTRATIO    RM    -12.1709   -23.22   -1.1218   True \n",
      "PTRATIO   TAX    389.7816  378.7325  400.8307  True \n",
      "PTRATIO    ZN    -7.0919   -18.141    3.9572  False \n",
      "  RAD      RM    -3.2648   -14.3139   7.7843  False \n",
      "  RAD     TAX    398.6877  387.6387  409.7368  True \n",
      "  RAD      ZN     1.8142   -9.2349   12.8633  False \n",
      "   RM     TAX    401.9525  390.9034  413.0016  True \n",
      "   RM      ZN     5.079    -5.9701   16.1281  False \n",
      "  TAX      ZN   -396.8735 -407.9226 -385.8244  True \n",
      "----------------------------------------------------\n"
     ]
    }
   ],
   "source": [
    "d_melt = pd.melt(bos.reset_index(), id_vars=['index'], value_vars=['CRIM', 'ZN', 'INDUS', 'CHAS', 'NOX', 'RM', 'AGE', 'DIS', 'RAD', 'TAX', 'PTRATIO', 'B', 'LSTAT', 'PRICE'])\n",
    "d_melt.columns = ['index', 'treatments', 'value']\n",
    "m_comp = pairwise_tukeyhsd(endog=d_melt['value'], groups=d_melt['treatments'], alpha=0.05)\n",
    "print(m_comp)"
   ]
  }
 ],
 "metadata": {
  "kernelspec": {
   "display_name": "Python 3",
   "language": "python",
   "name": "python3"
  },
  "language_info": {
   "codemirror_mode": {
    "name": "ipython",
    "version": 3
   },
   "file_extension": ".py",
   "mimetype": "text/x-python",
   "name": "python",
   "nbconvert_exporter": "python",
   "pygments_lexer": "ipython3",
   "version": "3.7.3"
  }
 },
 "nbformat": 4,
 "nbformat_minor": 2
}
